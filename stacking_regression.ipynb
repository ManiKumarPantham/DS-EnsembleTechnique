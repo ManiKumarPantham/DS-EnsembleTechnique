{
 "cells": [
  {
   "cell_type": "code",
   "execution_count": 20,
   "id": "f278aec4",
   "metadata": {},
   "outputs": [],
   "source": [
    "# Stacking Regression Using scikit-learn\n",
    "from sklearn.datasets import load_diabetes\n",
    "from sklearn.linear_model import RidgeCV\n",
    "from sklearn.svm import LinearSVR\n",
    "from sklearn.ensemble import RandomForestRegressor\n",
    "from sklearn.ensemble import StackingRegressor\n",
    "from sklearn.model_selection import train_test_split\n",
    "import pandas as pd\n",
    "import numpy as np\n",
    "import pickle\n",
    "from sklearn import metrics"
   ]
  },
  {
   "cell_type": "code",
   "execution_count": 21,
   "id": "16cf1bed",
   "metadata": {},
   "outputs": [],
   "source": [
    "# Load the dataset\n",
    "diabetes = load_diabetes()"
   ]
  },
  {
   "cell_type": "code",
   "execution_count": 22,
   "id": "57b11336",
   "metadata": {},
   "outputs": [],
   "source": [
    "# # Load the dataframe\n",
    "df_features = pd.DataFrame(data = diabetes.data, columns = diabetes.feature_names)\n",
    "\n",
    "df_target = pd.DataFrame(data = diabetes.target, columns = ['target'])\n"
   ]
  },
  {
   "cell_type": "code",
   "execution_count": 23,
   "id": "42c900a5",
   "metadata": {},
   "outputs": [
    {
     "data": {
      "text/html": [
       "<div>\n",
       "<style scoped>\n",
       "    .dataframe tbody tr th:only-of-type {\n",
       "        vertical-align: middle;\n",
       "    }\n",
       "\n",
       "    .dataframe tbody tr th {\n",
       "        vertical-align: top;\n",
       "    }\n",
       "\n",
       "    .dataframe thead th {\n",
       "        text-align: right;\n",
       "    }\n",
       "</style>\n",
       "<table border=\"1\" class=\"dataframe\">\n",
       "  <thead>\n",
       "    <tr style=\"text-align: right;\">\n",
       "      <th></th>\n",
       "      <th>age</th>\n",
       "      <th>sex</th>\n",
       "      <th>bmi</th>\n",
       "      <th>bp</th>\n",
       "      <th>s1</th>\n",
       "      <th>s2</th>\n",
       "      <th>s3</th>\n",
       "      <th>s4</th>\n",
       "      <th>s5</th>\n",
       "      <th>s6</th>\n",
       "      <th>target</th>\n",
       "    </tr>\n",
       "  </thead>\n",
       "  <tbody>\n",
       "    <tr>\n",
       "      <th>0</th>\n",
       "      <td>0.038076</td>\n",
       "      <td>0.050680</td>\n",
       "      <td>0.061696</td>\n",
       "      <td>0.021872</td>\n",
       "      <td>-0.044223</td>\n",
       "      <td>-0.034821</td>\n",
       "      <td>-0.043401</td>\n",
       "      <td>-0.002592</td>\n",
       "      <td>0.019908</td>\n",
       "      <td>-0.017646</td>\n",
       "      <td>151.0</td>\n",
       "    </tr>\n",
       "    <tr>\n",
       "      <th>1</th>\n",
       "      <td>-0.001882</td>\n",
       "      <td>-0.044642</td>\n",
       "      <td>-0.051474</td>\n",
       "      <td>-0.026328</td>\n",
       "      <td>-0.008449</td>\n",
       "      <td>-0.019163</td>\n",
       "      <td>0.074412</td>\n",
       "      <td>-0.039493</td>\n",
       "      <td>-0.068330</td>\n",
       "      <td>-0.092204</td>\n",
       "      <td>75.0</td>\n",
       "    </tr>\n",
       "    <tr>\n",
       "      <th>2</th>\n",
       "      <td>0.085299</td>\n",
       "      <td>0.050680</td>\n",
       "      <td>0.044451</td>\n",
       "      <td>-0.005671</td>\n",
       "      <td>-0.045599</td>\n",
       "      <td>-0.034194</td>\n",
       "      <td>-0.032356</td>\n",
       "      <td>-0.002592</td>\n",
       "      <td>0.002864</td>\n",
       "      <td>-0.025930</td>\n",
       "      <td>141.0</td>\n",
       "    </tr>\n",
       "    <tr>\n",
       "      <th>3</th>\n",
       "      <td>-0.089063</td>\n",
       "      <td>-0.044642</td>\n",
       "      <td>-0.011595</td>\n",
       "      <td>-0.036656</td>\n",
       "      <td>0.012191</td>\n",
       "      <td>0.024991</td>\n",
       "      <td>-0.036038</td>\n",
       "      <td>0.034309</td>\n",
       "      <td>0.022692</td>\n",
       "      <td>-0.009362</td>\n",
       "      <td>206.0</td>\n",
       "    </tr>\n",
       "    <tr>\n",
       "      <th>4</th>\n",
       "      <td>0.005383</td>\n",
       "      <td>-0.044642</td>\n",
       "      <td>-0.036385</td>\n",
       "      <td>0.021872</td>\n",
       "      <td>0.003935</td>\n",
       "      <td>0.015596</td>\n",
       "      <td>0.008142</td>\n",
       "      <td>-0.002592</td>\n",
       "      <td>-0.031991</td>\n",
       "      <td>-0.046641</td>\n",
       "      <td>135.0</td>\n",
       "    </tr>\n",
       "    <tr>\n",
       "      <th>...</th>\n",
       "      <td>...</td>\n",
       "      <td>...</td>\n",
       "      <td>...</td>\n",
       "      <td>...</td>\n",
       "      <td>...</td>\n",
       "      <td>...</td>\n",
       "      <td>...</td>\n",
       "      <td>...</td>\n",
       "      <td>...</td>\n",
       "      <td>...</td>\n",
       "      <td>...</td>\n",
       "    </tr>\n",
       "    <tr>\n",
       "      <th>437</th>\n",
       "      <td>0.041708</td>\n",
       "      <td>0.050680</td>\n",
       "      <td>0.019662</td>\n",
       "      <td>0.059744</td>\n",
       "      <td>-0.005697</td>\n",
       "      <td>-0.002566</td>\n",
       "      <td>-0.028674</td>\n",
       "      <td>-0.002592</td>\n",
       "      <td>0.031193</td>\n",
       "      <td>0.007207</td>\n",
       "      <td>178.0</td>\n",
       "    </tr>\n",
       "    <tr>\n",
       "      <th>438</th>\n",
       "      <td>-0.005515</td>\n",
       "      <td>0.050680</td>\n",
       "      <td>-0.015906</td>\n",
       "      <td>-0.067642</td>\n",
       "      <td>0.049341</td>\n",
       "      <td>0.079165</td>\n",
       "      <td>-0.028674</td>\n",
       "      <td>0.034309</td>\n",
       "      <td>-0.018118</td>\n",
       "      <td>0.044485</td>\n",
       "      <td>104.0</td>\n",
       "    </tr>\n",
       "    <tr>\n",
       "      <th>439</th>\n",
       "      <td>0.041708</td>\n",
       "      <td>0.050680</td>\n",
       "      <td>-0.015906</td>\n",
       "      <td>0.017282</td>\n",
       "      <td>-0.037344</td>\n",
       "      <td>-0.013840</td>\n",
       "      <td>-0.024993</td>\n",
       "      <td>-0.011080</td>\n",
       "      <td>-0.046879</td>\n",
       "      <td>0.015491</td>\n",
       "      <td>132.0</td>\n",
       "    </tr>\n",
       "    <tr>\n",
       "      <th>440</th>\n",
       "      <td>-0.045472</td>\n",
       "      <td>-0.044642</td>\n",
       "      <td>0.039062</td>\n",
       "      <td>0.001215</td>\n",
       "      <td>0.016318</td>\n",
       "      <td>0.015283</td>\n",
       "      <td>-0.028674</td>\n",
       "      <td>0.026560</td>\n",
       "      <td>0.044528</td>\n",
       "      <td>-0.025930</td>\n",
       "      <td>220.0</td>\n",
       "    </tr>\n",
       "    <tr>\n",
       "      <th>441</th>\n",
       "      <td>-0.045472</td>\n",
       "      <td>-0.044642</td>\n",
       "      <td>-0.073030</td>\n",
       "      <td>-0.081414</td>\n",
       "      <td>0.083740</td>\n",
       "      <td>0.027809</td>\n",
       "      <td>0.173816</td>\n",
       "      <td>-0.039493</td>\n",
       "      <td>-0.004220</td>\n",
       "      <td>0.003064</td>\n",
       "      <td>57.0</td>\n",
       "    </tr>\n",
       "  </tbody>\n",
       "</table>\n",
       "<p>442 rows × 11 columns</p>\n",
       "</div>"
      ],
      "text/plain": [
       "          age       sex       bmi        bp        s1        s2        s3  \\\n",
       "0    0.038076  0.050680  0.061696  0.021872 -0.044223 -0.034821 -0.043401   \n",
       "1   -0.001882 -0.044642 -0.051474 -0.026328 -0.008449 -0.019163  0.074412   \n",
       "2    0.085299  0.050680  0.044451 -0.005671 -0.045599 -0.034194 -0.032356   \n",
       "3   -0.089063 -0.044642 -0.011595 -0.036656  0.012191  0.024991 -0.036038   \n",
       "4    0.005383 -0.044642 -0.036385  0.021872  0.003935  0.015596  0.008142   \n",
       "..        ...       ...       ...       ...       ...       ...       ...   \n",
       "437  0.041708  0.050680  0.019662  0.059744 -0.005697 -0.002566 -0.028674   \n",
       "438 -0.005515  0.050680 -0.015906 -0.067642  0.049341  0.079165 -0.028674   \n",
       "439  0.041708  0.050680 -0.015906  0.017282 -0.037344 -0.013840 -0.024993   \n",
       "440 -0.045472 -0.044642  0.039062  0.001215  0.016318  0.015283 -0.028674   \n",
       "441 -0.045472 -0.044642 -0.073030 -0.081414  0.083740  0.027809  0.173816   \n",
       "\n",
       "           s4        s5        s6  target  \n",
       "0   -0.002592  0.019908 -0.017646   151.0  \n",
       "1   -0.039493 -0.068330 -0.092204    75.0  \n",
       "2   -0.002592  0.002864 -0.025930   141.0  \n",
       "3    0.034309  0.022692 -0.009362   206.0  \n",
       "4   -0.002592 -0.031991 -0.046641   135.0  \n",
       "..        ...       ...       ...     ...  \n",
       "437 -0.002592  0.031193  0.007207   178.0  \n",
       "438  0.034309 -0.018118  0.044485   104.0  \n",
       "439 -0.011080 -0.046879  0.015491   132.0  \n",
       "440  0.026560  0.044528 -0.025930   220.0  \n",
       "441 -0.039493 -0.004220  0.003064    57.0  \n",
       "\n",
       "[442 rows x 11 columns]"
      ]
     },
     "execution_count": 23,
     "metadata": {},
     "output_type": "execute_result"
    }
   ],
   "source": [
    "final = pd.concat([df_features, df_target], axis = 1)\n",
    "\n",
    "final"
   ]
  },
  {
   "cell_type": "markdown",
   "id": "f6fa59ca",
   "metadata": {},
   "source": [
    "### Save the data frame into csv file\n",
    "final.to_csv('diabetes_new.csv', index = False)\n",
    "\n",
    "final = pd.read_csv('diabetes_new.csv')\n",
    "\n",
    "final\n",
    "final.info()"
   ]
  },
  {
   "cell_type": "code",
   "execution_count": 24,
   "id": "6f750668",
   "metadata": {},
   "outputs": [],
   "source": [
    "X = np.array(final.iloc[:, :10]) # Predictors \n",
    "\n",
    "y = np.array(final['target']) # Target"
   ]
  },
  {
   "cell_type": "code",
   "execution_count": 25,
   "id": "584a5a7a",
   "metadata": {},
   "outputs": [],
   "source": [
    "X_train, X_test, y_train, y_test = train_test_split(X, y, random_state = 42)"
   ]
  },
  {
   "cell_type": "code",
   "execution_count": 26,
   "id": "f1483024",
   "metadata": {},
   "outputs": [],
   "source": [
    "# Base estimators\n",
    "\n",
    "estimators = [(\"lr\", RidgeCV()), (\"svr\", LinearSVR(random_state = 42))]"
   ]
  },
  {
   "cell_type": "code",
   "execution_count": 27,
   "id": "b134a589",
   "metadata": {},
   "outputs": [],
   "source": [
    "# Meta Model stacked on top of base estimators\n",
    "\n",
    "reg = StackingRegressor(estimators = estimators,\n",
    "                        final_estimator = RandomForestRegressor(n_estimators = 10,\n",
    "                                                                random_state = 42))"
   ]
  },
  {
   "cell_type": "code",
   "execution_count": 28,
   "id": "acd93753",
   "metadata": {},
   "outputs": [
    {
     "data": {
      "text/plain": [
       "StackingRegressor(estimators=[('lr', RidgeCV(alphas=array([ 0.1,  1. , 10. ]))),\n",
       "                              ('svr', LinearSVR(random_state=42))],\n",
       "                  final_estimator=RandomForestRegressor(n_estimators=10,\n",
       "                                                        random_state=42))"
      ]
     },
     "execution_count": 28,
     "metadata": {},
     "output_type": "execute_result"
    }
   ],
   "source": [
    "stacking_reg = reg.fit(X_train, y_train)\n",
    "stacking_reg"
   ]
  },
  {
   "cell_type": "code",
   "execution_count": 29,
   "id": "cae630a8",
   "metadata": {},
   "outputs": [],
   "source": [
    "# Save the ML model\n",
    "pickle.dump(stacking_reg, open('stacking_reg_diabetes.pkl', 'wb'))\n",
    "\n",
    "# Load the saved model\n",
    "model = pickle.load(open('stacking_reg_diabetes.pkl','rb'))"
   ]
  },
  {
   "cell_type": "code",
   "execution_count": 30,
   "id": "2b699fcd",
   "metadata": {},
   "outputs": [
    {
     "data": {
      "text/plain": [
       "array([136.7, 129.4, 141.2, 254.2, 174.8,  91.6, 271. , 185.6,  67.4,\n",
       "       164.3,  99.7, 156.7,  52.9, 212.7,  93.8, 146.8, 198.2, 248.5,\n",
       "       262.1, 221.9, 225.8,  74.3,  60.8, 189. , 128.8, 151.5, 231.9,\n",
       "       113.7,  52.2, 147.6, 136.4, 111. , 186. , 123.3, 151.1, 189. ,\n",
       "       174.8, 163.6, 136.7,  50.7,  60.4, 157.7, 144.5, 142.5, 151.1,\n",
       "        52.9,  64.6,  93.8,  50.7, 199.1, 128.8,  52.9, 163.6,  97.3,\n",
       "       195.7, 177.7,  84.7, 187.3, 147.6,  48.9, 123.3, 262.1, 141.2,\n",
       "       166.9, 168. , 234.7, 140. , 144.5, 165.8, 136.7, 160.8, 262.1,\n",
       "       212.5, 129.5,  67.4, 195.6, 245.1, 234.7, 162.4, 236.1, 147.6,\n",
       "       138.6,  52.2,  52.2, 157.7,  67.4,  64.6,  47.9, 161.3, 185.6,\n",
       "       127.8, 218.9,  93.8,  47.9,  50.7, 215.1, 276.1, 127. ,  92.6,\n",
       "        52.9, 245.1, 157.7, 254.2,  99.7, 128.8,  89.2, 213.2, 169.1,\n",
       "       151.5, 123.3, 147.6])"
      ]
     },
     "execution_count": 30,
     "metadata": {},
     "output_type": "execute_result"
    }
   ],
   "source": [
    "pred = model.predict(X_test)\n",
    "\n",
    "pred"
   ]
  },
  {
   "cell_type": "code",
   "execution_count": 31,
   "id": "8315fd8c",
   "metadata": {},
   "outputs": [],
   "source": [
    "r2_score = model.score(X_test, y_test)"
   ]
  },
  {
   "cell_type": "code",
   "execution_count": 32,
   "id": "4bc81a0f",
   "metadata": {},
   "outputs": [
    {
     "name": "stdout",
     "output_type": "stream",
     "text": [
      "0.3642619780615395\n"
     ]
    }
   ],
   "source": [
    "print(r2_score)"
   ]
  },
  {
   "cell_type": "code",
   "execution_count": 33,
   "id": "7b8ff674",
   "metadata": {},
   "outputs": [],
   "source": [
    "test = pd.read_csv(r'C:\\Users\\Bharani Kumar\\Desktop\\Data Science using Python & R\\Version 2 slides\\stacking_regression_flask_new\\stacking_regression_flask_new\\diabetes_test.csv')"
   ]
  },
  {
   "cell_type": "code",
   "execution_count": 34,
   "id": "2ca2ec8a",
   "metadata": {},
   "outputs": [
    {
     "name": "stderr",
     "output_type": "stream",
     "text": [
      "C:\\Anaconda\\lib\\site-packages\\sklearn\\base.py:443: UserWarning: X has feature names, but RidgeCV was fitted without feature names\n",
      "  warnings.warn(\n",
      "C:\\Anaconda\\lib\\site-packages\\sklearn\\base.py:443: UserWarning: X has feature names, but LinearSVR was fitted without feature names\n",
      "  warnings.warn(\n"
     ]
    }
   ],
   "source": [
    "test_pred = model.predict(test)"
   ]
  },
  {
   "cell_type": "code",
   "execution_count": 35,
   "id": "91b042c0",
   "metadata": {},
   "outputs": [
    {
     "data": {
      "text/plain": [
       "array([225.8,  91.8, 163.6, 164.3, 156.7,  93.8, 195.7, 262.1, 185.6,\n",
       "       129.5, 147.6, 164.3, 111. , 147.6, 254.9, 161.3, 136.7,  74.3,\n",
       "       151.1, 174.8, 183.5])"
      ]
     },
     "execution_count": 35,
     "metadata": {},
     "output_type": "execute_result"
    }
   ],
   "source": [
    "test_pred"
   ]
  },
  {
   "cell_type": "code",
   "execution_count": null,
   "id": "ab59f265",
   "metadata": {},
   "outputs": [],
   "source": []
  }
 ],
 "metadata": {
  "kernelspec": {
   "display_name": "Python 3 (ipykernel)",
   "language": "python",
   "name": "python3"
  },
  "language_info": {
   "codemirror_mode": {
    "name": "ipython",
    "version": 3
   },
   "file_extension": ".py",
   "mimetype": "text/x-python",
   "name": "python",
   "nbconvert_exporter": "python",
   "pygments_lexer": "ipython3",
   "version": "3.9.13"
  }
 },
 "nbformat": 4,
 "nbformat_minor": 5
}
